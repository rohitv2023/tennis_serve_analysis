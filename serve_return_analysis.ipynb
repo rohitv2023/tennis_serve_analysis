{
 "cells": [
  {
   "cell_type": "markdown",
   "id": "ee8c7ed9",
   "metadata": {},
   "source": [
    "# Tennis Serve/Return Data Processing"
   ]
  },
  {
   "cell_type": "code",
   "execution_count": 1,
   "id": "f3b37f7e",
   "metadata": {},
   "outputs": [],
   "source": [
    "import pandas as pd # for data processing\n",
    "import re # for string matching\n",
    "import time # measure length of time for data processing"
   ]
  },
  {
   "cell_type": "markdown",
   "id": "638c630d",
   "metadata": {},
   "source": [
    "### Helper Functions to Process Data By Each Row\n",
    "Input for each of these functions is a single row of data"
   ]
  },
  {
   "cell_type": "code",
   "execution_count": 2,
   "id": "2a9329b2",
   "metadata": {},
   "outputs": [],
   "source": [
    "# returns string representing server of point\n",
    "# first name in match_id is first server, so we can use the Svr field to get the name of the server\n",
    "def get_server(row):\n",
    "    if row['Svr'] == 1: # if server is 1st, return first name in match_id\n",
    "        if row['match_id'].split('-')[-2][-1] == '_':\n",
    "            return row['match_id'].split('-')[-2][:-1]\n",
    "        else:\n",
    "            return row['match_id'].split('-')[-2]\n",
    "    else: # otherwise, return second name in match_id\n",
    "        if row['match_id'].split('-')[-1][-1] == '_':\n",
    "            return row['match_id'].split('-')[-1][:-1]\n",
    "        else:\n",
    "            return row['match_id'].split('-')[-1]"
   ]
  },
  {
   "cell_type": "code",
   "execution_count": 3,
   "id": "6a32f09f",
   "metadata": {},
   "outputs": [],
   "source": [
    "# returns string representing returner of point\n",
    "# reverse logic of get_server() function\n",
    "def get_returner(row):\n",
    "    if row['Svr'] == 2:\n",
    "        if row['match_id'].split('-')[-2][-1] == '_':\n",
    "            return row['match_id'].split('-')[-2][:-1]\n",
    "        else:\n",
    "            return row['match_id'].split('-')[-2]\n",
    "    else:\n",
    "        if row['match_id'].split('-')[-1][-1] == '_':\n",
    "            return row['match_id'].split('-')[-1][:-1]\n",
    "        else:\n",
    "            return row['match_id'].split('-')[-1]"
   ]
  },
  {
   "cell_type": "code",
   "execution_count": 4,
   "id": "b7f8f6c3",
   "metadata": {},
   "outputs": [],
   "source": [
    "# returns string representing whether point is played on deuce court or not\n",
    "# deuce court points are played when point score is even or score is two points apart\n",
    "def get_deuce(row):\n",
    "    if row['Pts'].split('-')[0] == row['Pts'].split('-')[1] or \\\n",
    "    row['Pts'] == '30-0' or row['Pts'] == '40-15' or row['Pts'] == '15-40':\n",
    "        return \"Yes\"\n",
    "    else:\n",
    "        return \"No\""
   ]
  },
  {
   "cell_type": "code",
   "execution_count": 5,
   "id": "7bcb2b24",
   "metadata": {},
   "outputs": [],
   "source": [
    "# returns string representing whether point has high stakes or not\n",
    "# pressure points include all points in close-game, late-set situations and when returner is 2 points or closer to breaking serve\n",
    "def get_pressure_point(row):\n",
    "    if (abs(row['Gm1'] - row['Gm2']) <= 1 and (row['Gm1'] >= 4 or row['Gm2'] >= 4)) or \\\n",
    "    row['Pts'].split('-')[1] == 'AD' or int(row['Pts'].split('-')[1]) >= 30:\n",
    "        return 'Yes'\n",
    "    else:\n",
    "        return 'No'"
   ]
  },
  {
   "cell_type": "code",
   "execution_count": 6,
   "id": "b5243ae3",
   "metadata": {},
   "outputs": [],
   "source": [
    "# isolate the date of the point from the match_id\n",
    "def get_date(row):\n",
    "    return row['match_id'].split('-')[0]"
   ]
  },
  {
   "cell_type": "markdown",
   "id": "d804e4e4",
   "metadata": {},
   "source": [
    "### Using Regex in Helper Functions\n",
    "The dataset contains encoding of shot sequences for each point. The characters and their interpretations are as follows:"
   ]
  },
  {
   "cell_type": "markdown",
   "id": "43a0bf22",
   "metadata": {},
   "source": [
    "| Character | Interpretation |\n",
    "| :--: | :--: |\n",
    "| 4 | wide serve |\n",
    "| 5 | body serve |\n",
    "| 6 | T serve |\n",
    "| + | approach |\n",
    "| d | deep miss |\n",
    "| w | wide miss |\n",
    "| x | deep and wide miss |\n",
    "| n | net miss |\n",
    "| f | forehand |\n",
    "| b | backhand |\n",
    "| r | forehand slice |\n",
    "| s | backhand slice |\n",
    "| * | serve ace/rally winner |\n",
    "| # | serve unreturned/rally forced error |\n",
    "| @ | unforced error |"
   ]
  },
  {
   "cell_type": "code",
   "execution_count": 7,
   "id": "3ccc0d2a",
   "metadata": {},
   "outputs": [],
   "source": [
    "serve_miss = r\".*[456]\\+?[dwxn]\" # pattern identifies serve direction followed by error code\n",
    "ace_unreturned = r\".*[456]\\+?[\\*#]\" # pattern identifies serve direction followed by ace/unreturned code\n",
    "forcError = r\".*[fbrs].*#\" # pattern identifies a ralley that ends in a forced error\n",
    "unforcError = r\".*[fbrs].*@\" # pattern identifies a ralley that ends in an unforced error\n",
    "winner = r\".*[fbrs].*\\*\" # pattern identifies a ralley that ends in a winner"
   ]
  },
  {
   "cell_type": "code",
   "execution_count": 8,
   "id": "5b0d517a",
   "metadata": {},
   "outputs": [],
   "source": [
    "# returns string representing where in the service box the ball was served to\n",
    "# wide is towards the alley, body is the middle of the box, and T is towards the center of the court\n",
    "def get_1SrvDir(row):\n",
    "    if re.match(r\"4\", row['1st']):\n",
    "        return \"Wide\"\n",
    "    elif re.match(r\"5\", row['1st']):\n",
    "        return \"Body\"\n",
    "    elif re.match(r\"6\", row['1st']):\n",
    "        return \"T\""
   ]
  },
  {
   "cell_type": "code",
   "execution_count": 9,
   "id": "a0ef6526",
   "metadata": {},
   "outputs": [],
   "source": [
    "# same logic as the function for first serve direction but accounting for a 2nd serve not being hit if the 1st serve was made \n",
    "def get_2SrvDir(row):\n",
    "    if row['2nd'] == '$':\n",
    "        return \"Not Served\"\n",
    "    elif re.match(r\"4\", row['2nd']):\n",
    "        return \"Wide\"\n",
    "    elif re.match(r\"5\", row['2nd']):\n",
    "        return \"Body\"\n",
    "    elif re.match(r\"6\", row['2nd']):\n",
    "        return \"T\""
   ]
  },
  {
   "cell_type": "code",
   "execution_count": 10,
   "id": "e0385a4f",
   "metadata": {},
   "outputs": [],
   "source": [
    "# matches regex patterns to encoding for 1st serve\n",
    "def get_1SrvOutcome(row):\n",
    "    if re.match(serve_miss, row['1st']):\n",
    "        return \"Miss\"\n",
    "    elif re.match(ace_unreturned, row['1st']):\n",
    "        return \"Ace/Unreturned\"\n",
    "    elif re.match(forcError, row['1st']):\n",
    "        return \"Forced Err\"\n",
    "    elif re.match(unforcError, row['1st']):\n",
    "        return \"Unforced Err\"\n",
    "    elif re.match(winner, row['1st']):\n",
    "        return \"Winner\""
   ]
  },
  {
   "cell_type": "code",
   "execution_count": 11,
   "id": "2cb52c73",
   "metadata": {},
   "outputs": [],
   "source": [
    "# matches regex patterns to encoding for 2nd serve but accounting for a 2nd serve not being hit if the 1st serve was made \n",
    "def get_2SrvOutcome(row):\n",
    "    if row['2nd'] == '$':\n",
    "        return \"Not Served\"\n",
    "    elif re.match(serve_miss, row['2nd']):\n",
    "        return \"Miss\"\n",
    "    elif re.match(ace_unreturned, row['2nd']):\n",
    "        return \"Ace/Unreturned\"\n",
    "    elif re.match(forcError, row['2nd']):\n",
    "        return \"Forced Err\"\n",
    "    elif re.match(unforcError, row['2nd']):\n",
    "        return \"Unforced Err\"\n",
    "    elif re.match(winner, row['2nd']):\n",
    "        return \"Winner\""
   ]
  },
  {
   "cell_type": "markdown",
   "id": "46bd28f7",
   "metadata": {},
   "source": [
    "### Combine Helper Functions Into One Data Processor"
   ]
  },
  {
   "cell_type": "code",
   "execution_count": 12,
   "id": "45ece547",
   "metadata": {},
   "outputs": [],
   "source": [
    "# use this function to apply the helper functions to every row in the dataset\n",
    "def process_data(df):\n",
    "    df['2nd'] = df['2nd'].fillna('$') # blank records in the 2nd field are replaced with $ to represent 'Not Served'\n",
    "    df['Server'] = df.apply(get_server, axis = 1)\n",
    "    df['Returner'] = df.apply(get_returner, axis = 1)\n",
    "    df['Deuce_Ad'] = df.apply(get_deuce, axis = 1)\n",
    "    df['Pressure'] = df.apply(get_pressure_point, axis = 1)\n",
    "    df['1stDir'] = df.apply(get_1SrvDir, axis = 1)\n",
    "    df['2ndDir'] = df.apply(get_2SrvDir, axis = 1)\n",
    "    df['1stOutcome'] = df.apply(get_1SrvOutcome, axis = 1)\n",
    "    df['2ndOutcome'] = df.apply(get_2SrvOutcome, axis = 1)\n",
    "    df['Date'] = df.apply(get_date, axis = 1)\n",
    "    # rename columns that do not need alteration, but will be used in analysis\n",
    "    df = df.rename(columns = {'isSvrWinner':'PointWon', 'rallyCount':'RallyLength'})\n",
    "    \n",
    "    return df"
   ]
  },
  {
   "cell_type": "markdown",
   "id": "7509290b",
   "metadata": {},
   "source": [
    "### Define Function to Read File and Process Data"
   ]
  },
  {
   "cell_type": "code",
   "execution_count": 13,
   "id": "937e8dfb",
   "metadata": {},
   "outputs": [],
   "source": [
    "# function to read in file, piece by piece, and process file together\n",
    "def read_file(filename, chunk_size):\n",
    "    # read file \"chunk_size\" records at a time\n",
    "    chunks = pd.read_csv(filename, \n",
    "                         header = 0, \n",
    "                         chunksize = chunk_size, \n",
    "                         encoding = \"windows-1252\",\n",
    "                         usecols = ['match_id', 'Gm1', 'Gm2', 'Pts', 'Svr',\\\n",
    "                                    '1st', '2nd', '1stIn', '2ndIn', 'isSvrWinner', 'rallyCount'])\n",
    "    \n",
    "    # create empty dataframe and populate it with each of the chunks from the file\n",
    "    df = pd.DataFrame()\n",
    "    for chunk in chunks:\n",
    "        df = pd.concat([chunk, df], axis = 0)\n",
    "    \n",
    "    # add Tour field to indicate whether point was played on ATP or WTA tours\n",
    "    if '-m-' in filename:\n",
    "        df['Tour'] = 'ATP'\n",
    "    elif '-w-' in filename:\n",
    "        df['Tour'] = 'WTA'\n",
    "    \n",
    "    # call the data processing function from above that applies helper functions to create new fields\n",
    "    df = process_data(df)\n",
    "\n",
    "    return df\n",
    "    "
   ]
  },
  {
   "cell_type": "markdown",
   "id": "e77a752d",
   "metadata": {},
   "source": [
    "### Call Function to Read in File and Process Data"
   ]
  },
  {
   "cell_type": "code",
   "execution_count": 14,
   "id": "2c76df71",
   "metadata": {
    "scrolled": true
   },
   "outputs": [
    {
     "name": "stdout",
     "output_type": "stream",
     "text": [
      "33.82 seconds\n",
      "81.73 seconds\n",
      "105.52 seconds\n",
      "121.0 seconds\n"
     ]
    }
   ],
   "source": [
    "start_time = time.time()\n",
    "chunk_size = 10000\n",
    "men_since_2017 = read_file(\"charting-m-points-from-2017.csv\", chunk_size)\n",
    "print(round(time.time() - start_time, 2), \"seconds\")\n",
    "men_through_2016 = read_file(\"charting-m-points-to-2016.csv\", chunk_size)\n",
    "print(round(time.time() - start_time, 2), \"seconds\")\n",
    "women_since_2017 = read_file(\"charting-w-points-from-2017.csv\", chunk_size)\n",
    "print(round(time.time() - start_time, 2), \"seconds\")\n",
    "women_through_2016 = read_file(\"charting-w-points-to-2016.csv\", chunk_size)\n",
    "print(round(time.time() - start_time, 2), \"seconds\")"
   ]
  },
  {
   "cell_type": "markdown",
   "id": "8af8aff5",
   "metadata": {},
   "source": [
    "### Combine Dataframes and Select/Order Relevant Rows"
   ]
  },
  {
   "cell_type": "code",
   "execution_count": 15,
   "id": "2ca6d318",
   "metadata": {},
   "outputs": [
    {
     "data": {
      "text/plain": [
       "(985419, 12)"
      ]
     },
     "execution_count": 15,
     "metadata": {},
     "output_type": "execute_result"
    }
   ],
   "source": [
    "data = pd.concat([men_since_2017, men_through_2016, women_since_2017, women_through_2016], axis = 0)\n",
    "data = data[['Tour', 'Date', 'Server', 'Returner', 'Deuce_Ad', 'Pressure', \\\n",
    "             '1stDir', '1stOutcome', '2ndDir', '2ndOutcome', 'RallyLength', 'PointWon']]\n",
    "data.shape"
   ]
  },
  {
   "cell_type": "markdown",
   "id": "4c889ff2",
   "metadata": {},
   "source": [
    "### Drop Records With Empty Fields and Export to CSV"
   ]
  },
  {
   "cell_type": "code",
   "execution_count": 16,
   "id": "f6a80a0f",
   "metadata": {},
   "outputs": [
    {
     "name": "stdout",
     "output_type": "stream",
     "text": [
      "(932665, 12)\n"
     ]
    }
   ],
   "source": [
    "data = data.dropna()\n",
    "print(data.shape)\n",
    "data.to_csv(\"PointByPointServingData.csv\", index = False)"
   ]
  }
 ],
 "metadata": {
  "kernelspec": {
   "display_name": "Python 3 (ipykernel)",
   "language": "python",
   "name": "python3"
  },
  "language_info": {
   "codemirror_mode": {
    "name": "ipython",
    "version": 3
   },
   "file_extension": ".py",
   "mimetype": "text/x-python",
   "name": "python",
   "nbconvert_exporter": "python",
   "pygments_lexer": "ipython3",
   "version": "3.9.7"
  }
 },
 "nbformat": 4,
 "nbformat_minor": 5
}
